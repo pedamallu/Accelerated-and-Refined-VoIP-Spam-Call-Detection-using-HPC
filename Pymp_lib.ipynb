{
 "cells": [
  {
   "cell_type": "code",
   "execution_count": 1,
   "metadata": {},
   "outputs": [],
   "source": [
    "import time\n",
    "import pymp\n",
    "import matplotlib.pyplot as plt\n",
    "import numpy as np\n",
    "import pandas as pd\n",
    "from sklearn.model_selection import train_test_split\n",
    "import warnings\n",
    "warnings.filterwarnings('ignore')"
   ]
  },
  {
   "cell_type": "code",
   "execution_count": 2,
   "metadata": {},
   "outputs": [],
   "source": [
    "cores = [i+1 for i in range(8)]\n",
    "times = []"
   ]
  },
  {
   "cell_type": "code",
   "execution_count": 3,
   "metadata": {},
   "outputs": [],
   "source": [
    "dataset = pd.read_csv('6_lakh(head).csv')\n",
    "X= dataset.iloc[:,0:6]\n",
    "y= dataset.iloc[:,6]"
   ]
  },
  {
   "cell_type": "code",
   "execution_count": 4,
   "metadata": {},
   "outputs": [],
   "source": [
    "from sklearn.preprocessing import StandardScaler\n",
    "sc = StandardScaler()\n",
    "X=np.array(X.head(5000))\n",
    "y=np.array(y.head(5000))\n",
    "X = sc.fit_transform(X)"
   ]
  },
  {
   "cell_type": "code",
   "execution_count": 5,
   "metadata": {},
   "outputs": [],
   "source": [
    "X_train,X_test,y_train,y_test = train_test_split(X,y,test_size=0.8,stratify=y)"
   ]
  },
  {
   "cell_type": "code",
   "execution_count": 6,
   "metadata": {},
   "outputs": [],
   "source": [
    "class KNN():\n",
    "    def __init__(self):\n",
    "        self.X_train = []\n",
    "        self.y_train = []\n",
    "\n",
    "    def euclidian(self,x1,x2):\n",
    "        difference =  np.subtract(x1,x2)\n",
    "        square_difference = np.power(difference,2)\n",
    "        sum_square_difference = np.sum(square_difference)\n",
    "\n",
    "        return sum_square_difference**(0.5)\n",
    "\n",
    "    def fit(self,X,y):\n",
    "\n",
    "        self.X_train = X\n",
    "        self.y_train = y\n",
    "\n",
    "    def predict(self,X_test,k=9):\n",
    "\n",
    "        y_pred = []\n",
    "\n",
    "        for i in range(X_test.shape[0]):\n",
    "            distances = []\n",
    "            for j in range(self.X_train.shape[0]):\n",
    "                distances.append(self.euclidian(X_train[j],X_test[i]))\n",
    "\n",
    "            indeces = np.argsort(np.array(distances))\n",
    "            sol = 0\n",
    "            threshold=0.5\n",
    "            for K in range(k):\n",
    "\n",
    "                sol += self.y_train[indeces[K]]\n",
    "            if((sol/k)>=0.5):\n",
    "                y_pred.append(1)\n",
    "            else:\n",
    "                y_pred.append(0)\n",
    "        return y_pred"
   ]
  },
  {
   "cell_type": "code",
   "execution_count": 7,
   "metadata": {},
   "outputs": [],
   "source": [
    "model = KNN()\n",
    "model.fit(X_train,y_train.reshape(y_train.shape[0],))\n",
    "def main(threads):\n",
    "    with pymp.Parallel(num_threads=threads) as p:\n",
    "        start = time.time()\n",
    "        y_pred = [model.predict(i, 9) for i in p.iterate(X_test)]\n",
    "        end = time.time()\n",
    "    return end - start"
   ]
  },
  {
   "cell_type": "code",
   "execution_count": 8,
   "metadata": {},
   "outputs": [
    {
     "name": "stdout",
     "output_type": "stream",
     "text": [
      "232.75565385818481\n"
     ]
    }
   ],
   "source": [
    "time_taken = main(1)\n",
    "times.append(time_taken)\n",
    "print(time_taken)"
   ]
  },
  {
   "cell_type": "code",
   "execution_count": 16,
   "metadata": {},
   "outputs": [
    {
     "name": "stdout",
     "output_type": "stream",
     "text": [
      "201.57763814926147\n"
     ]
    }
   ],
   "source": [
    "time_taken = main(2)\n",
    "times.append(time_taken)\n",
    "print(time_taken)"
   ]
  },
  {
   "cell_type": "code",
   "execution_count": 17,
   "metadata": {},
   "outputs": [
    {
     "name": "stdout",
     "output_type": "stream",
     "text": [
      "99.40094470977783\n"
     ]
    }
   ],
   "source": [
    "time_taken = main(3)\n",
    "times.append(time_taken)\n",
    "print(time_taken)"
   ]
  },
  {
   "cell_type": "code",
   "execution_count": 18,
   "metadata": {},
   "outputs": [
    {
     "name": "stdout",
     "output_type": "stream",
     "text": [
      "73.26742887496948\n"
     ]
    }
   ],
   "source": [
    "time_taken = main(4)\n",
    "times.append(time_taken)\n",
    "print(time_taken)"
   ]
  },
  {
   "cell_type": "code",
   "execution_count": 19,
   "metadata": {},
   "outputs": [
    {
     "name": "stdout",
     "output_type": "stream",
     "text": [
      "71.46038269996643\n"
     ]
    }
   ],
   "source": [
    "time_taken = main(5)\n",
    "times.append(time_taken)\n",
    "print(time_taken)"
   ]
  },
  {
   "cell_type": "code",
   "execution_count": 20,
   "metadata": {},
   "outputs": [
    {
     "name": "stdout",
     "output_type": "stream",
     "text": [
      "70.11519408226013\n"
     ]
    }
   ],
   "source": [
    "time_taken = main(6)\n",
    "times.append(time_taken)\n",
    "print(time_taken)"
   ]
  },
  {
   "cell_type": "code",
   "execution_count": 21,
   "metadata": {},
   "outputs": [
    {
     "name": "stdout",
     "output_type": "stream",
     "text": [
      "69.26785349845886\n"
     ]
    }
   ],
   "source": [
    "time_taken = main(7)\n",
    "times.append(time_taken)\n",
    "print(time_taken)"
   ]
  },
  {
   "cell_type": "code",
   "execution_count": 22,
   "metadata": {},
   "outputs": [
    {
     "name": "stdout",
     "output_type": "stream",
     "text": [
      "69.5266842842102\n"
     ]
    }
   ],
   "source": [
    "time_taken = main(8)\n",
    "times.append(time_taken)\n",
    "print(time_taken)"
   ]
  },
  {
   "cell_type": "code",
   "execution_count": 10,
   "metadata": {},
   "outputs": [
    {
     "data": {
      "text/plain": [
       "[232.75565385818481,\n",
       " 201.57763814926147,\n",
       " 99.40094470977783,\n",
       " 73.26742887496948,\n",
       " 71.46038269996643,\n",
       " 70.11519408226013,\n",
       " 69.26785349845886,\n",
       " 69.5266842842102]"
      ]
     },
     "execution_count": 10,
     "metadata": {},
     "output_type": "execute_result"
    }
   ],
   "source": [
    "times=[232.75565385818481,\n",
    "      201.57763814926147,\n",
    "      99.40094470977783,\n",
    "      73.26742887496948,\n",
    "      71.46038269996643,\n",
    "      70.11519408226013,\n",
    "      69.26785349845886,\n",
    "      69.5266842842102\n",
    "    ]\n",
    "times"
   ]
  },
  {
   "cell_type": "code",
   "execution_count": 11,
   "metadata": {},
   "outputs": [
    {
     "data": {
      "image/png": "[encoded data removed]",
      "text/plain": [
       "<Figure size 432x288 with 1 Axes>"
      ]
     },
     "metadata": {},
     "output_type": "display_data"
    }
   ],
   "source": [
    "plt.bar(cores, times)\n",
    "plt.show()"
   ]
  },
  {
   "cell_type": "code",
   "execution_count": null,
   "metadata": {},
   "outputs": [],
   "source": []
  }
 ],
 "metadata": {
  "kernelspec": {
   "display_name": "Python 3",
   "language": "python",
   "name": "python3"
  },
  "language_info": {
   "codemirror_mode": {
    "name": "ipython",
    "version": 3
   },
   "file_extension": ".py",
   "mimetype": "text/x-python",
   "name": "python",
   "nbconvert_exporter": "python",
   "pygments_lexer": "ipython3",
   "version": "3.7.4"
  }
 },
 "nbformat": 4,
 "nbformat_minor": 2
}
