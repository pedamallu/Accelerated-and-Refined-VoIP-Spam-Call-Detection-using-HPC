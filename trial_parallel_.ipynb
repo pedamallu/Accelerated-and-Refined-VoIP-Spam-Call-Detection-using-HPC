{
 "cells": [
  {
   "cell_type": "code",
   "execution_count": 1,
   "metadata": {
    "colab": {
     "base_uri": "https://localhost:8080/"
    },
    "id": "2TeFA7a-4EvM",
    "outputId": "9cdffd34-f77c-4162-e202-b3d6bcffff6d"
   },
   "outputs": [
    {
     "name": "stdout",
     "output_type": "stream",
     "text": [
      "Defaulting to user installation because normal site-packages is not writeable\n",
      "Requirement already satisfied: pymp-pypi in /home/praveen/.local/lib/python3.6/site-packages (0.4.3)\n",
      "\u001b[33mWARNING: You are using pip version 21.0.1; however, version 21.1.1 is available.\n",
      "You should consider upgrading via the '/usr/bin/python3 -m pip install --upgrade pip' command.\u001b[0m\n"
     ]
    }
   ],
   "source": [
    "!pip install pymp-pypi"
   ]
  },
  {
   "cell_type": "code",
   "execution_count": 2,
   "metadata": {
    "id": "uWsdgLTi4EvX"
   },
   "outputs": [],
   "source": [
    "import numpy as np\n",
    "import time\n",
    "import pandas as pd\n",
    "import glob\n",
    "import pymp\n",
    "from sklearn.model_selection import train_test_split\n",
    "from sklearn.metrics import r2_score"
   ]
  },
  {
   "cell_type": "code",
   "execution_count": 3,
   "metadata": {
    "id": "XNdq67da4EvY"
   },
   "outputs": [],
   "source": [
    "dataset = pd.read_csv('6_lakh(head).csv')"
   ]
  },
  {
   "cell_type": "code",
   "execution_count": 4,
   "metadata": {
    "id": "DypWCqCl4EvZ"
   },
   "outputs": [],
   "source": [
    "X= dataset.iloc[:,0:6]\n",
    "y= dataset.iloc[:,6]"
   ]
  },
  {
   "cell_type": "code",
   "execution_count": 5,
   "metadata": {
    "colab": {
     "base_uri": "https://localhost:8080/",
     "height": 355
    },
    "id": "eWP_8XnA4Eva",
    "outputId": "b5d57121-face-49a6-b924-ca8b02984658"
   },
   "outputs": [
    {
     "data": {
      "text/html": [
       "<div>\n",
       "<style scoped>\n",
       "    .dataframe tbody tr th:only-of-type {\n",
       "        vertical-align: middle;\n",
       "    }\n",
       "\n",
       "    .dataframe tbody tr th {\n",
       "        vertical-align: top;\n",
       "    }\n",
       "\n",
       "    .dataframe thead th {\n",
       "        text-align: right;\n",
       "    }\n",
       "</style>\n",
       "<table border=\"1\" class=\"dataframe\">\n",
       "  <thead>\n",
       "    <tr style=\"text-align: right;\">\n",
       "      <th></th>\n",
       "      <th>FROM</th>\n",
       "      <th>TO</th>\n",
       "      <th>DURATION</th>\n",
       "      <th>mu</th>\n",
       "      <th>Sigma</th>\n",
       "      <th>psi</th>\n",
       "    </tr>\n",
       "  </thead>\n",
       "  <tbody>\n",
       "    <tr>\n",
       "      <th>0</th>\n",
       "      <td>726</td>\n",
       "      <td>1609</td>\n",
       "      <td>126</td>\n",
       "      <td>1.0</td>\n",
       "      <td>126.000000</td>\n",
       "      <td>0.842105</td>\n",
       "    </tr>\n",
       "    <tr>\n",
       "      <th>1</th>\n",
       "      <td>4252</td>\n",
       "      <td>147</td>\n",
       "      <td>77</td>\n",
       "      <td>1.0</td>\n",
       "      <td>357.500000</td>\n",
       "      <td>2.652174</td>\n",
       "    </tr>\n",
       "    <tr>\n",
       "      <th>2</th>\n",
       "      <td>6996</td>\n",
       "      <td>4728</td>\n",
       "      <td>685</td>\n",
       "      <td>1.0</td>\n",
       "      <td>685.000000</td>\n",
       "      <td>0.705128</td>\n",
       "    </tr>\n",
       "    <tr>\n",
       "      <th>3</th>\n",
       "      <td>505</td>\n",
       "      <td>1870</td>\n",
       "      <td>1</td>\n",
       "      <td>1.0</td>\n",
       "      <td>1.000000</td>\n",
       "      <td>630.000000</td>\n",
       "    </tr>\n",
       "    <tr>\n",
       "      <th>4</th>\n",
       "      <td>3903</td>\n",
       "      <td>8342</td>\n",
       "      <td>149</td>\n",
       "      <td>1.0</td>\n",
       "      <td>149.000000</td>\n",
       "      <td>0.778523</td>\n",
       "    </tr>\n",
       "    <tr>\n",
       "      <th>5</th>\n",
       "      <td>522</td>\n",
       "      <td>1817</td>\n",
       "      <td>17</td>\n",
       "      <td>1.0</td>\n",
       "      <td>18.000000</td>\n",
       "      <td>563.000000</td>\n",
       "    </tr>\n",
       "    <tr>\n",
       "      <th>6</th>\n",
       "      <td>4543</td>\n",
       "      <td>942</td>\n",
       "      <td>483</td>\n",
       "      <td>1.0</td>\n",
       "      <td>192.333333</td>\n",
       "      <td>90.000000</td>\n",
       "    </tr>\n",
       "    <tr>\n",
       "      <th>7</th>\n",
       "      <td>9694</td>\n",
       "      <td>7554</td>\n",
       "      <td>218</td>\n",
       "      <td>1.0</td>\n",
       "      <td>218.000000</td>\n",
       "      <td>1.381579</td>\n",
       "    </tr>\n",
       "    <tr>\n",
       "      <th>8</th>\n",
       "      <td>2497</td>\n",
       "      <td>2194</td>\n",
       "      <td>15</td>\n",
       "      <td>1.0</td>\n",
       "      <td>16.000000</td>\n",
       "      <td>8.000000</td>\n",
       "    </tr>\n",
       "    <tr>\n",
       "      <th>9</th>\n",
       "      <td>1674</td>\n",
       "      <td>3638</td>\n",
       "      <td>683</td>\n",
       "      <td>1.0</td>\n",
       "      <td>683.000000</td>\n",
       "      <td>1.114504</td>\n",
       "    </tr>\n",
       "  </tbody>\n",
       "</table>\n",
       "</div>"
      ],
      "text/plain": [
       "   FROM    TO  DURATION   mu       Sigma         psi\n",
       "0   726  1609       126  1.0  126.000000    0.842105\n",
       "1  4252   147        77  1.0  357.500000    2.652174\n",
       "2  6996  4728       685  1.0  685.000000    0.705128\n",
       "3   505  1870         1  1.0    1.000000  630.000000\n",
       "4  3903  8342       149  1.0  149.000000    0.778523\n",
       "5   522  1817        17  1.0   18.000000  563.000000\n",
       "6  4543   942       483  1.0  192.333333   90.000000\n",
       "7  9694  7554       218  1.0  218.000000    1.381579\n",
       "8  2497  2194        15  1.0   16.000000    8.000000\n",
       "9  1674  3638       683  1.0  683.000000    1.114504"
      ]
     },
     "execution_count": 5,
     "metadata": {},
     "output_type": "execute_result"
    }
   ],
   "source": [
    "X.head(10)"
   ]
  },
  {
   "cell_type": "code",
   "execution_count": 6,
   "metadata": {
    "id": "t8PktXPV4Eva"
   },
   "outputs": [],
   "source": [
    "from sklearn.preprocessing import StandardScaler\n",
    "sc = StandardScaler()\n",
    "\n",
    "X=np.array(X.head(40000))\n",
    "y=np.array(y.head(40000))\n",
    "#X=np.array()\n",
    "#y=np.array()\n",
    "X = sc.fit_transform(X)"
   ]
  },
  {
   "cell_type": "code",
   "execution_count": 7,
   "metadata": {
    "id": "Fr2QwFm-4Evc"
   },
   "outputs": [],
   "source": [
    "class KNN():\n",
    "\n",
    "    def _init_(self):\n",
    "\n",
    "        self.X_train = []\n",
    "        self.y_train = []\n",
    "\n",
    "    def euclidian(self,x1,x2):\n",
    "\n",
    "        difference =  np.subtract(x1,x2)\n",
    "        square_difference = np.power(difference,2)\n",
    "        sum_square_difference = np.sum(square_difference)\n",
    "\n",
    "        return sum_square_difference**(0.5)\n",
    "\n",
    "    def fit(self,X,y):\n",
    "\n",
    "        self.X_train = X\n",
    "        self.y_train = y\n",
    "\n",
    "    def predict(self,X_test,k,process):\n",
    "\n",
    "        y_pred = pymp.shared.array(X_test.shape[0],dtype = np.int16)\n",
    "\n",
    "        with pymp.Parallel(num_threads = process) as p:\n",
    "            for i in p.range(X_test.shape[0]):\n",
    "\n",
    "                distances = []\n",
    "\n",
    "                for j in range(self.X_train.shape[0]):\n",
    "\n",
    "                    distances.append(self.euclidian(X_train[j],X_test[i]))\n",
    "\n",
    "                indeces = np.argsort(np.array(distances))\n",
    "                \n",
    "                sol = []\n",
    "\n",
    "                for K in range(k):\n",
    "\n",
    "                    sol.append(self.y_train[indeces[K]])\n",
    "\n",
    "                y_pred[i] = np.bincount(sol).argmax()\n",
    "\n",
    "            return y_pred"
   ]
  },
  {
   "cell_type": "code",
   "execution_count": 8,
   "metadata": {
    "colab": {
     "base_uri": "https://localhost:8080/"
    },
    "id": "uj4yiNS24Evc",
    "outputId": "19dca565-d70e-492d-adbc-5b65b8eeed84"
   },
   "outputs": [
    {
     "name": "stdout",
     "output_type": "stream",
     "text": [
      "CPU times: user 25min 15s, sys: 1.39 s, total: 25min 16s\n",
      "Wall time: 25min 38s\n"
     ]
    }
   ],
   "source": [
    "%%time\n",
    "X_train,X_test,y_train,y_test = train_test_split(X,y,test_size=0.8,stratify=y)\n",
    "model = KNN()\n",
    "model.fit(X_train,y_train.reshape(y_train.shape[0],))\n",
    "y_pred = model.predict(X_test,9,2)"
   ]
  },
  {
   "cell_type": "code",
   "execution_count": 9,
   "metadata": {
    "colab": {
     "base_uri": "https://localhost:8080/"
    },
    "id": "3lWW3zuXaD5K",
    "outputId": "bc687efb-3f53-43df-a914-7744e1e0907d"
   },
   "outputs": [
    {
     "name": "stdout",
     "output_type": "stream",
     "text": [
      "CPU times: user 16min 56s, sys: 272 ms, total: 16min 56s\n",
      "Wall time: 16min 56s\n"
     ]
    }
   ],
   "source": [
    "%%time\n",
    "X_train,X_test,y_train,y_test = train_test_split(X,y,test_size=0.8,stratify=y)\n",
    "model = KNN()\n",
    "model.fit(X_train,y_train.reshape(y_train.shape[0],))\n",
    "y_pred = model.predict(X_test,9,4)"
   ]
  },
  {
   "cell_type": "code",
   "execution_count": 10,
   "metadata": {
    "colab": {
     "base_uri": "https://localhost:8080/"
    },
    "id": "GCTUmCRPaG7a",
    "outputId": "00097692-3c0a-4bd2-fdb0-fcf87573eccd"
   },
   "outputs": [
    {
     "name": "stdout",
     "output_type": "stream",
     "text": [
      "CPU times: user 41min 4s, sys: 1.24 s, total: 41min 6s\n",
      "Wall time: 41min 6s\n"
     ]
    }
   ],
   "source": [
    "%%time\n",
    "X_train,X_test,y_train,y_test = train_test_split(X,y,test_size=0.5,stratify=y)\n",
    "model = KNN()\n",
    "model.fit(X_train,y_train.reshape(y_train.shape[0],))\n",
    "y_pred = model.predict(X_test,9,2)"
   ]
  },
  {
   "cell_type": "code",
   "execution_count": 11,
   "metadata": {
    "colab": {
     "base_uri": "https://localhost:8080/"
    },
    "id": "fth70glcaKIg",
    "outputId": "8a19fba5-d1b2-4ab4-9bec-649bb0c5fc97"
   },
   "outputs": [
    {
     "name": "stdout",
     "output_type": "stream",
     "text": [
      "CPU times: user 24min 31s, sys: 764 ms, total: 24min 32s\n",
      "Wall time: 24min 49s\n"
     ]
    }
   ],
   "source": [
    "%%time\n",
    "X_train,X_test,y_train,y_test = train_test_split(X,y,test_size=0.5,stratify=y)\n",
    "model = KNN()\n",
    "model.fit(X_train,y_train.reshape(y_train.shape[0],))\n",
    "y_pred = model.predict(X_test,9,4)"
   ]
  },
  {
   "cell_type": "code",
   "execution_count": null,
   "metadata": {
    "id": "xS3f0Kwe6rio"
   },
   "outputs": [],
   "source": []
  }
 ],
 "metadata": {
  "colab": {
   "collapsed_sections": [],
   "name": "trial_parallel (1).ipynb",
   "provenance": [],
   "toc_visible": true
  },
  "kernelspec": {
   "display_name": "Python 3",
   "language": "python",
   "name": "python3"
  },
  "language_info": {
   "codemirror_mode": {
    "name": "ipython",
    "version": 3
   },
   "file_extension": ".py",
   "mimetype": "text/x-python",
   "name": "python",
   "nbconvert_exporter": "python",
   "pygments_lexer": "ipython3",
   "version": "3.7.4"
  }
 },
 "nbformat": 4,
 "nbformat_minor": 1
}
