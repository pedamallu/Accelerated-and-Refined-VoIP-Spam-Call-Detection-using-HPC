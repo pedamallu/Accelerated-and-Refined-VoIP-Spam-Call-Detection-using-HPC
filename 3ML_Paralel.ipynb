{
  "nbformat": 4,
  "nbformat_minor": 0,
  "metadata": {
    "colab": {
      "name": "3ML_Paralel.ipynb",
      "provenance": [],
      "collapsed_sections": []
    },
    "kernelspec": {
      "display_name": "Python 3",
      "name": "python3"
    }
  },
  "cells": [
    {
      "cell_type": "code",
      "metadata": {
        "id": "6lJn2zffIMZc"
      },
      "source": [
        "import pandas as pd\n",
        "import numpy as np\n",
        "from matplotlib import pyplot as plt # For plotting\n",
        "from sklearn.tree import DecisionTreeClassifier # To run decision tree model\n",
        "import multiprocessing\n",
        "from sklearn.linear_model import LogisticRegression\n",
        "from sklearn.ensemble import RandomForestClassifier\n",
        "from sklearn.tree import DecisionTreeClassifier\n",
        "import pickle"
      ],
      "execution_count": null,
      "outputs": []
    },
    {
      "cell_type": "code",
      "metadata": {
        "id": "lvjtMuEGI7FD"
      },
      "source": [
        "df=pd.read_csv('/content/6_lakh(head).csv')"
      ],
      "execution_count": null,
      "outputs": []
    },
    {
      "cell_type": "code",
      "metadata": {
        "colab": {
          "base_uri": "https://localhost:8080/"
        },
        "id": "fo65PPJoNB6x",
        "outputId": "de5a5c73-87e0-4000-d627-b2e94ea6391d"
      },
      "source": [
        "Xcol=df.columns[:-1]\n",
        "ycol=df.columns[-1]\n",
        "Xcol"
      ],
      "execution_count": null,
      "outputs": [
        {
          "output_type": "execute_result",
          "data": {
            "text/plain": [
              "Index(['FROM', 'TO', 'DURATION', 'mu', 'Sigma', 'psi'], dtype='object')"
            ]
          },
          "metadata": {
            "tags": []
          },
          "execution_count": 4
        }
      ]
    },
    {
      "cell_type": "code",
      "metadata": {
        "id": "tImddouDKC8t"
      },
      "source": [
        "X = df.iloc[:,0:6].values\n",
        "y = df.iloc[:,6].values"
      ],
      "execution_count": null,
      "outputs": []
    },
    {
      "cell_type": "code",
      "metadata": {
        "id": "dYQTCs-FLJ8_"
      },
      "source": [
        "def parallel_train(model_name):\n",
        "  global X,y\n",
        "  model_name[0].fit(X,y)\n",
        "  pickle.dump(model_name[0], open(model_name[1], 'wb'))\n",
        "  return model_name[0]"
      ],
      "execution_count": null,
      "outputs": []
    },
    {
      "cell_type": "code",
      "metadata": {
        "id": "4xOWd1X4y_4q"
      },
      "source": [
        "log = LogisticRegression(n_jobs=2)\n",
        "frst = RandomForestClassifier()\n",
        "tree = DecisionTreeClassifier()"
      ],
      "execution_count": null,
      "outputs": []
    },
    {
      "cell_type": "code",
      "metadata": {
        "id": "chu6ML1ohCdu",
        "colab": {
          "base_uri": "https://localhost:8080/"
        },
        "outputId": "8b48566b-5d9c-46e7-a13d-f00ca5e2cdfd"
      },
      "source": [
        "%%time\n",
        "pool = multiprocessing.Pool(processes = 3)\n",
        "output = pool.map(parallel_train,[[log,\"logistic\"],[tree,\"tree\"],[frst,\"forest\"]])"
      ],
      "execution_count": null,
      "outputs": [
        {
          "output_type": "stream",
          "text": [
            "/usr/local/lib/python3.7/dist-packages/joblib/parallel.py:734: UserWarning: Loky-backed parallel loops cannot be called in a multiprocessing, setting n_jobs=1\n",
            "  **self._backend_args)\n"
          ],
          "name": "stderr"
        },
        {
          "output_type": "stream",
          "text": [
            "CPU times: user 1.4 s, sys: 441 ms, total: 1.84 s\n",
            "Wall time: 3min 25s\n"
          ],
          "name": "stdout"
        }
      ]
    },
    {
      "cell_type": "code",
      "metadata": {
        "colab": {
          "base_uri": "https://localhost:8080/"
        },
        "id": "xJO6yQw8yaqk",
        "outputId": "beed0dad-049a-4f20-a4b2-6e41ae09f4de"
      },
      "source": [
        "output"
      ],
      "execution_count": null,
      "outputs": [
        {
          "output_type": "execute_result",
          "data": {
            "text/plain": [
              "[LogisticRegression(C=1.0, class_weight=None, dual=False, fit_intercept=True,\n",
              "                    intercept_scaling=1, l1_ratio=None, max_iter=100,\n",
              "                    multi_class='auto', n_jobs=2, penalty='l2',\n",
              "                    random_state=None, solver='lbfgs', tol=0.0001, verbose=0,\n",
              "                    warm_start=False),\n",
              " DecisionTreeClassifier(ccp_alpha=0.0, class_weight=None, criterion='gini',\n",
              "                        max_depth=None, max_features=None, max_leaf_nodes=None,\n",
              "                        min_impurity_decrease=0.0, min_impurity_split=None,\n",
              "                        min_samples_leaf=1, min_samples_split=2,\n",
              "                        min_weight_fraction_leaf=0.0, presort='deprecated',\n",
              "                        random_state=None, splitter='best')]"
            ]
          },
          "metadata": {
            "tags": []
          },
          "execution_count": 9
        }
      ]
    }
  ]
}