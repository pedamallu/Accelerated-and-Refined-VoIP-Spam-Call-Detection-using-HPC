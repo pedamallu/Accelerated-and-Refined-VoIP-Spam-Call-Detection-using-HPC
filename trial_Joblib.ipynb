{
 "cells": [
  {
   "cell_type": "code",
   "execution_count": 1,
   "metadata": {
    "id": "xAg5SCmCcNAK"
   },
   "outputs": [],
   "source": [
    "import numpy as np\n",
    "import time\n",
    "import pandas as pd\n",
    "import glob\n",
    "from sklearn.model_selection import train_test_split\n",
    "from sklearn.metrics import r2_score\n",
    "from joblib import Parallel,delayed"
   ]
  },
  {
   "cell_type": "code",
   "execution_count": 2,
   "metadata": {
    "id": "YlF-tsoWcNAM"
   },
   "outputs": [],
   "source": [
    "dataset = pd.read_csv('6_lakh(head).csv')"
   ]
  },
  {
   "cell_type": "code",
   "execution_count": 3,
   "metadata": {
    "id": "eNgWFcU7cNAN"
   },
   "outputs": [],
   "source": [
    "X= dataset.iloc[:,0:6]\n",
    "y= dataset.iloc[:,6]"
   ]
  },
  {
   "cell_type": "code",
   "execution_count": 4,
   "metadata": {
    "colab": {
     "base_uri": "https://localhost:8080/",
     "height": 355
    },
    "id": "ntXpAsaccNAO",
    "outputId": "06de4824-254c-4c56-facf-88664a9d27be"
   },
   "outputs": [
    {
     "data": {
      "text/html": [
       "<div>\n",
       "<style scoped>\n",
       "    .dataframe tbody tr th:only-of-type {\n",
       "        vertical-align: middle;\n",
       "    }\n",
       "\n",
       "    .dataframe tbody tr th {\n",
       "        vertical-align: top;\n",
       "    }\n",
       "\n",
       "    .dataframe thead th {\n",
       "        text-align: right;\n",
       "    }\n",
       "</style>\n",
       "<table border=\"1\" class=\"dataframe\">\n",
       "  <thead>\n",
       "    <tr style=\"text-align: right;\">\n",
       "      <th></th>\n",
       "      <th>FROM</th>\n",
       "      <th>TO</th>\n",
       "      <th>DURATION</th>\n",
       "      <th>mu</th>\n",
       "      <th>Sigma</th>\n",
       "      <th>psi</th>\n",
       "    </tr>\n",
       "  </thead>\n",
       "  <tbody>\n",
       "    <tr>\n",
       "      <th>0</th>\n",
       "      <td>726</td>\n",
       "      <td>1609</td>\n",
       "      <td>126</td>\n",
       "      <td>1.0</td>\n",
       "      <td>126.000000</td>\n",
       "      <td>0.842105</td>\n",
       "    </tr>\n",
       "    <tr>\n",
       "      <th>1</th>\n",
       "      <td>4252</td>\n",
       "      <td>147</td>\n",
       "      <td>77</td>\n",
       "      <td>1.0</td>\n",
       "      <td>357.500000</td>\n",
       "      <td>2.652174</td>\n",
       "    </tr>\n",
       "    <tr>\n",
       "      <th>2</th>\n",
       "      <td>6996</td>\n",
       "      <td>4728</td>\n",
       "      <td>685</td>\n",
       "      <td>1.0</td>\n",
       "      <td>685.000000</td>\n",
       "      <td>0.705128</td>\n",
       "    </tr>\n",
       "    <tr>\n",
       "      <th>3</th>\n",
       "      <td>505</td>\n",
       "      <td>1870</td>\n",
       "      <td>1</td>\n",
       "      <td>1.0</td>\n",
       "      <td>1.000000</td>\n",
       "      <td>630.000000</td>\n",
       "    </tr>\n",
       "    <tr>\n",
       "      <th>4</th>\n",
       "      <td>3903</td>\n",
       "      <td>8342</td>\n",
       "      <td>149</td>\n",
       "      <td>1.0</td>\n",
       "      <td>149.000000</td>\n",
       "      <td>0.778523</td>\n",
       "    </tr>\n",
       "    <tr>\n",
       "      <th>5</th>\n",
       "      <td>522</td>\n",
       "      <td>1817</td>\n",
       "      <td>17</td>\n",
       "      <td>1.0</td>\n",
       "      <td>18.000000</td>\n",
       "      <td>563.000000</td>\n",
       "    </tr>\n",
       "    <tr>\n",
       "      <th>6</th>\n",
       "      <td>4543</td>\n",
       "      <td>942</td>\n",
       "      <td>483</td>\n",
       "      <td>1.0</td>\n",
       "      <td>192.333333</td>\n",
       "      <td>90.000000</td>\n",
       "    </tr>\n",
       "    <tr>\n",
       "      <th>7</th>\n",
       "      <td>9694</td>\n",
       "      <td>7554</td>\n",
       "      <td>218</td>\n",
       "      <td>1.0</td>\n",
       "      <td>218.000000</td>\n",
       "      <td>1.381579</td>\n",
       "    </tr>\n",
       "    <tr>\n",
       "      <th>8</th>\n",
       "      <td>2497</td>\n",
       "      <td>2194</td>\n",
       "      <td>15</td>\n",
       "      <td>1.0</td>\n",
       "      <td>16.000000</td>\n",
       "      <td>8.000000</td>\n",
       "    </tr>\n",
       "    <tr>\n",
       "      <th>9</th>\n",
       "      <td>1674</td>\n",
       "      <td>3638</td>\n",
       "      <td>683</td>\n",
       "      <td>1.0</td>\n",
       "      <td>683.000000</td>\n",
       "      <td>1.114504</td>\n",
       "    </tr>\n",
       "  </tbody>\n",
       "</table>\n",
       "</div>"
      ],
      "text/plain": [
       "   FROM    TO  DURATION   mu       Sigma         psi\n",
       "0   726  1609       126  1.0  126.000000    0.842105\n",
       "1  4252   147        77  1.0  357.500000    2.652174\n",
       "2  6996  4728       685  1.0  685.000000    0.705128\n",
       "3   505  1870         1  1.0    1.000000  630.000000\n",
       "4  3903  8342       149  1.0  149.000000    0.778523\n",
       "5   522  1817        17  1.0   18.000000  563.000000\n",
       "6  4543   942       483  1.0  192.333333   90.000000\n",
       "7  9694  7554       218  1.0  218.000000    1.381579\n",
       "8  2497  2194        15  1.0   16.000000    8.000000\n",
       "9  1674  3638       683  1.0  683.000000    1.114504"
      ]
     },
     "execution_count": 4,
     "metadata": {},
     "output_type": "execute_result"
    }
   ],
   "source": [
    "X.head(10)"
   ]
  },
  {
   "cell_type": "code",
   "execution_count": 5,
   "metadata": {
    "colab": {
     "base_uri": "https://localhost:8080/"
    },
    "id": "4cT6ZS07cNAP",
    "outputId": "cabb876d-d96e-4995-dd94-a5ccb9d60bed"
   },
   "outputs": [
    {
     "data": {
      "text/plain": [
       "array([1, 1, 1, ..., 1, 1, 1])"
      ]
     },
     "execution_count": 5,
     "metadata": {},
     "output_type": "execute_result"
    }
   ],
   "source": [
    "from sklearn.preprocessing import StandardScaler\n",
    "sc = StandardScaler()\n",
    "\n",
    "X=np.array(X.head(10000))\n",
    "y=np.array(y.head(10000))\n",
    "#X=np.array()\n",
    "#y=np.array()\n",
    "X = sc.fit_transform(X)\n",
    "y"
   ]
  },
  {
   "cell_type": "code",
   "execution_count": 6,
   "metadata": {
    "id": "9CobqtX8cNAQ"
   },
   "outputs": [],
   "source": [
    "class KNN():\n",
    "\n",
    "    def __init__(self):\n",
    "\n",
    "        self.X_train = []\n",
    "        self.y_train = []\n",
    "\n",
    "    def euclidian(self,x1,x2):\n",
    "\n",
    "        difference =  np.subtract(x1,x2)\n",
    "        square_difference = np.power(difference,2)\n",
    "        sum_square_difference = np.sum(square_difference)\n",
    "\n",
    "        return sum_square_difference**(0.5)\n",
    "\n",
    "    def fit(self,X,y):\n",
    "\n",
    "        self.X_train = X\n",
    "        self.y_train = y\n",
    "\n",
    "    def predict(self,X_test,k):\n",
    "\n",
    "        y_pred = []\n",
    "\n",
    "        for i in range(X_test.shape[0]):\n",
    "\n",
    "            distances = []\n",
    "\n",
    "            for j in range(self.X_train.shape[0]):\n",
    "\n",
    "                distances.append(self.euclidian(X_train[j],X_test[i]))\n",
    "\n",
    "            indeces = np.argsort(np.array(distances))\n",
    "            \n",
    "            sol = 0\n",
    "            threshold=0.5\n",
    "\n",
    "            for K in range(k):\n",
    "\n",
    "                sol += self.y_train[indeces[K]]\n",
    "            if((sol/k)>=0.5):\n",
    "                y_pred.append(1)\n",
    "            else:\n",
    "                y_pred.append(0)\n",
    "           # y_pred.append(sol/k)\n",
    "\n",
    "        return y_pred"
   ]
  },
  {
   "cell_type": "code",
   "execution_count": 7,
   "metadata": {
    "id": "UHjGVRd2sL0_"
   },
   "outputs": [],
   "source": [
    "X_train,X_test,y_train,y_test = train_test_split(X,y,test_size=0.8,stratify=y)"
   ]
  },
  {
   "cell_type": "code",
   "execution_count": 8,
   "metadata": {
    "id": "OUSGFVs9sRSc"
   },
   "outputs": [
    {
     "name": "stdout",
     "output_type": "stream",
     "text": [
      "CPU times: user 17.1 s, sys: 632 ms, total: 17.7 s\n",
      "Wall time: 9min 59s\n"
     ]
    }
   ],
   "source": [
    "%%time\n",
    "model = KNN()\n",
    "model.fit(X_train,y_train.reshape(y_train.shape[0],))\n",
    "y_pred = Parallel(n_jobs = 2)(delayed(model.predict)(i,9) for i in X_test)"
   ]
  },
  {
   "cell_type": "code",
   "execution_count": 9,
   "metadata": {
    "id": "bldNwfuDs5DS"
   },
   "outputs": [
    {
     "name": "stdout",
     "output_type": "stream",
     "text": [
      "CPU times: user 1min, sys: 1.51 s, total: 1min 2s\n",
      "Wall time: 6min 43s\n"
     ]
    }
   ],
   "source": [
    "%%time\n",
    "model = KNN()\n",
    "model.fit(X_train,y_train.reshape(y_train.shape[0],))\n",
    "y_pred = Parallel(n_jobs = 4)(delayed(model.predict)(i,9) for i in X_test)"
   ]
  },
  {
   "cell_type": "code",
   "execution_count": 10,
   "metadata": {
    "id": "r2LVRT2gtJNq"
   },
   "outputs": [],
   "source": [
    "X_train,X_test,y_train,y_test = train_test_split(X,y,test_size=0.5,stratify=y)"
   ]
  },
  {
   "cell_type": "code",
   "execution_count": 11,
   "metadata": {
    "id": "OgcZ534ltDU4"
   },
   "outputs": [
    {
     "name": "stdout",
     "output_type": "stream",
     "text": [
      "CPU times: user 23.5 s, sys: 1.02 s, total: 24.6 s\n",
      "Wall time: 16min 58s\n"
     ]
    }
   ],
   "source": [
    "%%time\n",
    "model = KNN()\n",
    "model.fit(X_train,y_train.reshape(y_train.shape[0],))\n",
    "y_pred = Parallel(n_jobs = 2)(delayed(model.predict)(i,9) for i in X_test)"
   ]
  },
  {
   "cell_type": "code",
   "execution_count": 12,
   "metadata": {
    "id": "DllZCTUMtEOu"
   },
   "outputs": [
    {
     "name": "stdout",
     "output_type": "stream",
     "text": [
      "CPU times: user 40 s, sys: 1.38 s, total: 41.3 s\n",
      "Wall time: 10min 46s\n"
     ]
    }
   ],
   "source": [
    "%%time\n",
    "model = KNN()\n",
    "model.fit(X_train,y_train.reshape(y_train.shape[0],))\n",
    "y_pred = Parallel(n_jobs = 4)(delayed(model.predict)(i,9) for i in X_test)"
   ]
  },
  {
   "cell_type": "code",
   "execution_count": null,
   "metadata": {
    "id": "QEAG4OwPcNAS"
   },
   "outputs": [],
   "source": []
  }
 ],
 "metadata": {
  "colab": {
   "collapsed_sections": [],
   "name": "trial_Joblib.ipynb",
   "provenance": []
  },
  "kernelspec": {
   "display_name": "Python 3",
   "language": "python",
   "name": "python3"
  },
  "language_info": {
   "codemirror_mode": {
    "name": "ipython",
    "version": 3
   },
   "file_extension": ".py",
   "mimetype": "text/x-python",
   "name": "python",
   "nbconvert_exporter": "python",
   "pygments_lexer": "ipython3",
   "version": "3.7.4"
  }
 },
 "nbformat": 4,
 "nbformat_minor": 1
}
