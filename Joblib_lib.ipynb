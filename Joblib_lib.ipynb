{
 "cells": [
  {
   "cell_type": "code",
   "execution_count": 3,
   "metadata": {},
   "outputs": [],
   "source": [
    "import time\n",
    "from joblib import Parallel, delayed\n",
    "import matplotlib.pyplot as plt\n",
    "import numpy as np\n",
    "import pandas as pd\n",
    "from sklearn.model_selection import train_test_split"
   ]
  },
  {
   "cell_type": "code",
   "execution_count": 5,
   "metadata": {},
   "outputs": [],
   "source": [
    "cores = [i+1 for i in range(8)]\n",
    "times = []"
   ]
  },
  {
   "cell_type": "code",
   "execution_count": 3,
   "metadata": {},
   "outputs": [],
   "source": [
    "dataset = pd.read_csv('6_lakh(head).csv')\n",
    "X= dataset.iloc[:,0:6]\n",
    "y= dataset.iloc[:,6]"
   ]
  },
  {
   "cell_type": "code",
   "execution_count": 4,
   "metadata": {},
   "outputs": [],
   "source": [
    "from sklearn.preprocessing import StandardScaler\n",
    "sc = StandardScaler()\n",
    "X=np.array(X.head(5000))\n",
    "y=np.array(y.head(5000))\n",
    "X = sc.fit_transform(X)"
   ]
  },
  {
   "cell_type": "code",
   "execution_count": 5,
   "metadata": {},
   "outputs": [],
   "source": [
    "X_train,X_test,y_train,y_test = train_test_split(X,y,test_size=0.8,stratify=y)"
   ]
  },
  {
   "cell_type": "code",
   "execution_count": 6,
   "metadata": {},
   "outputs": [],
   "source": [
    "class KNN():\n",
    "    def __init__(self):\n",
    "\n",
    "        self.X_train = []\n",
    "        self.y_train = []\n",
    "\n",
    "    def euclidian(self,x1,x2):\n",
    "\n",
    "        difference =  np.subtract(x1,x2)\n",
    "        square_difference = np.power(difference,2)\n",
    "        sum_square_difference = np.sum(square_difference)\n",
    "\n",
    "        return sum_square_difference**(0.5)\n",
    "\n",
    "    def fit(self,X,y):\n",
    "\n",
    "        self.X_train = X\n",
    "        self.y_train = y\n",
    "\n",
    "    def predict(self,X_test,k=9):\n",
    "\n",
    "        y_pred = []\n",
    "\n",
    "        for i in range(X_test.shape[0]):\n",
    "            distances = []\n",
    "            for j in range(self.X_train.shape[0]):\n",
    "                distances.append(self.euclidian(X_train[j],X_test[i]))\n",
    "\n",
    "            indeces = np.argsort(np.array(distances))\n",
    "            sol = 0\n",
    "            threshold=0.5\n",
    "            for K in range(k):\n",
    "\n",
    "                sol += self.y_train[indeces[K]]\n",
    "            if((sol/k)>=0.5):\n",
    "                y_pred.append(1)\n",
    "            else:\n",
    "                y_pred.append(0)\n",
    "        return y_pred"
   ]
  },
  {
   "cell_type": "code",
   "execution_count": 7,
   "metadata": {},
   "outputs": [
    {
     "data": {
      "text/plain": [
       "(4000, 6)"
      ]
     },
     "execution_count": 7,
     "metadata": {},
     "output_type": "execute_result"
    }
   ],
   "source": [
    "X_test.shape"
   ]
  },
  {
   "cell_type": "code",
   "execution_count": 11,
   "metadata": {},
   "outputs": [],
   "source": [
    "model = KNN()\n",
    "model.fit(X_train,y_train.reshape(y_train.shape[0],))\n",
    "def main(threads):\n",
    "    start = time.time()\n",
    "    y_pred = Parallel(n_jobs=threads)(delayed(model.predict)(X_test[i]) for i in range(X_test.shape[0]))\n",
    "    end = time.time()\n",
    "    return end - start"
   ]
  },
  {
   "cell_type": "code",
   "execution_count": 12,
   "metadata": {},
   "outputs": [
    {
     "name": "stdout",
     "output_type": "stream",
     "text": [
      "166.64732909202576\n"
     ]
    }
   ],
   "source": [
    "if __name__==\"__main__\":\n",
    "    time_taken = main(1)\n",
    "    times.append(time_taken)\n",
    "    print(time_taken)"
   ]
  },
  {
   "cell_type": "code",
   "execution_count": 13,
   "metadata": {},
   "outputs": [
    {
     "name": "stdout",
     "output_type": "stream",
     "text": [
      "100.06449222564697\n"
     ]
    }
   ],
   "source": [
    "if __name__==\"__main__\":\n",
    "    time_taken = main(2)\n",
    "    times.append(time_taken)\n",
    "    print(time_taken)"
   ]
  },
  {
   "cell_type": "code",
   "execution_count": 14,
   "metadata": {},
   "outputs": [
    {
     "name": "stdout",
     "output_type": "stream",
     "text": [
      "81.22617840766907\n"
     ]
    }
   ],
   "source": [
    "if __name__==\"__main__\":\n",
    "    time_taken = main(3)\n",
    "    times.append(time_taken)\n",
    "    print(time_taken)"
   ]
  },
  {
   "cell_type": "code",
   "execution_count": 15,
   "metadata": {},
   "outputs": [
    {
     "name": "stdout",
     "output_type": "stream",
     "text": [
      "89.8452537059784\n"
     ]
    }
   ],
   "source": [
    "if __name__==\"__main__\":\n",
    "    time_taken = main(4)\n",
    "    times.append(time_taken)\n",
    "    print(time_taken)"
   ]
  },
  {
   "cell_type": "code",
   "execution_count": 16,
   "metadata": {},
   "outputs": [
    {
     "name": "stdout",
     "output_type": "stream",
     "text": [
      "89.70141410827637\n"
     ]
    }
   ],
   "source": [
    "if __name__==\"__main__\":\n",
    "    time_taken = main(5)\n",
    "    times.append(time_taken)\n",
    "    print(time_taken)"
   ]
  },
  {
   "cell_type": "code",
   "execution_count": 17,
   "metadata": {},
   "outputs": [
    {
     "name": "stdout",
     "output_type": "stream",
     "text": [
      "89.45765018463135\n"
     ]
    }
   ],
   "source": [
    "if __name__==\"__main__\":\n",
    "    time_taken = main(6)\n",
    "    times.append(time_taken)\n",
    "    print(time_taken)"
   ]
  },
  {
   "cell_type": "code",
   "execution_count": 18,
   "metadata": {},
   "outputs": [
    {
     "name": "stdout",
     "output_type": "stream",
     "text": [
      "95.22697687149048\n"
     ]
    }
   ],
   "source": [
    "if __name__==\"__main__\":\n",
    "    time_taken = main(7)\n",
    "    times.append(time_taken)\n",
    "    print(time_taken)"
   ]
  },
  {
   "cell_type": "code",
   "execution_count": 19,
   "metadata": {},
   "outputs": [
    {
     "name": "stdout",
     "output_type": "stream",
     "text": [
      "90.57944536209106\n"
     ]
    }
   ],
   "source": [
    "if __name__==\"__main__\":\n",
    "    time_taken = main(8)\n",
    "    times.append(time_taken)\n",
    "    print(time_taken)"
   ]
  },
  {
   "cell_type": "code",
   "execution_count": 6,
   "metadata": {},
   "outputs": [
    {
     "data": {
      "text/plain": [
       "[166.64732909202576,\n",
       " 100.06449222564697,\n",
       " 81.22617840766907,\n",
       " 89.8452537059784,\n",
       " 89.70141410827637,\n",
       " 89.45765018463135,\n",
       " 95.22697687149048,\n",
       " 90.57944536209106]"
      ]
     },
     "execution_count": 6,
     "metadata": {},
     "output_type": "execute_result"
    }
   ],
   "source": [
    "times"
   ]
  },
  {
   "cell_type": "code",
   "execution_count": 7,
   "metadata": {
    "scrolled": true
   },
   "outputs": [
    {
     "data": {
      "image/png": "[encoded data removed]",
      "text/plain": [
       "<Figure size 432x288 with 1 Axes>"
      ]
     },
     "metadata": {
      "needs_background": "light"
     },
     "output_type": "display_data"
    }
   ],
   "source": [
    "plt.bar(cores, times)\n",
    "plt.show()"
   ]
  },
  {
   "cell_type": "code",
   "execution_count": null,
   "metadata": {},
   "outputs": [],
   "source": []
  }
 ],
 "metadata": {
  "kernelspec": {
   "display_name": "Python 3",
   "language": "python",
   "name": "python3"
  },
  "language_info": {
   "codemirror_mode": {
    "name": "ipython",
    "version": 3
   },
   "file_extension": ".py",
   "mimetype": "text/x-python",
   "name": "python",
   "nbconvert_exporter": "python",
   "pygments_lexer": "ipython3",
   "version": "3.7.4"
  }
 },
 "nbformat": 4,
 "nbformat_minor": 2
}
